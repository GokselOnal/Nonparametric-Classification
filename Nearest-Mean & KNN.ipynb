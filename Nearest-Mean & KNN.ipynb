{
 "cells": [
  {
   "cell_type": "markdown",
   "id": "c1babba9",
   "metadata": {},
   "source": [
    "## CS454-Hw2"
   ]
  },
  {
   "cell_type": "code",
   "execution_count": 1,
   "id": "394f41e9",
   "metadata": {},
   "outputs": [],
   "source": [
    "import numpy as np\n",
    "import pandas as pd\n",
    "import matplotlib.pyplot as plt\n",
    "import seaborn as sns"
   ]
  },
  {
   "cell_type": "code",
   "execution_count": 2,
   "id": "68e8afdb",
   "metadata": {},
   "outputs": [],
   "source": [
    "training_set = pd.read_csv(\"training.csv\")\n",
    "testing_set = pd.read_csv(\"testing.csv\")"
   ]
  },
  {
   "cell_type": "code",
   "execution_count": 3,
   "id": "bd5bc1c1",
   "metadata": {},
   "outputs": [
    {
     "name": "stdout",
     "output_type": "stream",
     "text": [
      "<class 'pandas.core.frame.DataFrame'>\n",
      "RangeIndex: 90 entries, 0 to 89\n",
      "Data columns (total 3 columns):\n",
      " #   Column         Non-Null Count  Dtype  \n",
      "---  ------         --------------  -----  \n",
      " 0   PetalLengthCm  90 non-null     float64\n",
      " 1   PetalWidthCm   90 non-null     float64\n",
      " 2   Species        90 non-null     object \n",
      "dtypes: float64(2), object(1)\n",
      "memory usage: 2.2+ KB\n"
     ]
    }
   ],
   "source": [
    "training_set.info()"
   ]
  },
  {
   "cell_type": "code",
   "execution_count": 4,
   "id": "4b69aabb",
   "metadata": {},
   "outputs": [
    {
     "data": {
      "text/html": [
       "<div>\n",
       "<style scoped>\n",
       "    .dataframe tbody tr th:only-of-type {\n",
       "        vertical-align: middle;\n",
       "    }\n",
       "\n",
       "    .dataframe tbody tr th {\n",
       "        vertical-align: top;\n",
       "    }\n",
       "\n",
       "    .dataframe thead th {\n",
       "        text-align: right;\n",
       "    }\n",
       "</style>\n",
       "<table border=\"1\" class=\"dataframe\">\n",
       "  <thead>\n",
       "    <tr style=\"text-align: right;\">\n",
       "      <th></th>\n",
       "      <th>PetalLengthCm</th>\n",
       "      <th>PetalWidthCm</th>\n",
       "    </tr>\n",
       "  </thead>\n",
       "  <tbody>\n",
       "    <tr>\n",
       "      <th>count</th>\n",
       "      <td>90.000000</td>\n",
       "      <td>90.000000</td>\n",
       "    </tr>\n",
       "    <tr>\n",
       "      <th>mean</th>\n",
       "      <td>3.803333</td>\n",
       "      <td>1.202222</td>\n",
       "    </tr>\n",
       "    <tr>\n",
       "      <th>std</th>\n",
       "      <td>1.795778</td>\n",
       "      <td>0.756838</td>\n",
       "    </tr>\n",
       "    <tr>\n",
       "      <th>min</th>\n",
       "      <td>1.000000</td>\n",
       "      <td>0.100000</td>\n",
       "    </tr>\n",
       "    <tr>\n",
       "      <th>25%</th>\n",
       "      <td>1.600000</td>\n",
       "      <td>0.300000</td>\n",
       "    </tr>\n",
       "    <tr>\n",
       "      <th>50%</th>\n",
       "      <td>4.500000</td>\n",
       "      <td>1.400000</td>\n",
       "    </tr>\n",
       "    <tr>\n",
       "      <th>75%</th>\n",
       "      <td>5.075000</td>\n",
       "      <td>1.800000</td>\n",
       "    </tr>\n",
       "    <tr>\n",
       "      <th>max</th>\n",
       "      <td>6.900000</td>\n",
       "      <td>2.500000</td>\n",
       "    </tr>\n",
       "  </tbody>\n",
       "</table>\n",
       "</div>"
      ],
      "text/plain": [
       "       PetalLengthCm  PetalWidthCm\n",
       "count      90.000000     90.000000\n",
       "mean        3.803333      1.202222\n",
       "std         1.795778      0.756838\n",
       "min         1.000000      0.100000\n",
       "25%         1.600000      0.300000\n",
       "50%         4.500000      1.400000\n",
       "75%         5.075000      1.800000\n",
       "max         6.900000      2.500000"
      ]
     },
     "execution_count": 4,
     "metadata": {},
     "output_type": "execute_result"
    }
   ],
   "source": [
    "training_set.describe()"
   ]
  },
  {
   "cell_type": "code",
   "execution_count": 5,
   "id": "e6b00057",
   "metadata": {},
   "outputs": [
    {
     "data": {
      "text/html": [
       "<div>\n",
       "<style scoped>\n",
       "    .dataframe tbody tr th:only-of-type {\n",
       "        vertical-align: middle;\n",
       "    }\n",
       "\n",
       "    .dataframe tbody tr th {\n",
       "        vertical-align: top;\n",
       "    }\n",
       "\n",
       "    .dataframe thead th {\n",
       "        text-align: right;\n",
       "    }\n",
       "</style>\n",
       "<table border=\"1\" class=\"dataframe\">\n",
       "  <thead>\n",
       "    <tr style=\"text-align: right;\">\n",
       "      <th></th>\n",
       "      <th>PetalLengthCm</th>\n",
       "      <th>PetalWidthCm</th>\n",
       "      <th>Species</th>\n",
       "    </tr>\n",
       "  </thead>\n",
       "  <tbody>\n",
       "    <tr>\n",
       "      <th>0</th>\n",
       "      <td>1.4</td>\n",
       "      <td>0.2</td>\n",
       "      <td>Iris-setosa</td>\n",
       "    </tr>\n",
       "    <tr>\n",
       "      <th>1</th>\n",
       "      <td>1.4</td>\n",
       "      <td>0.2</td>\n",
       "      <td>Iris-setosa</td>\n",
       "    </tr>\n",
       "    <tr>\n",
       "      <th>2</th>\n",
       "      <td>1.3</td>\n",
       "      <td>0.2</td>\n",
       "      <td>Iris-setosa</td>\n",
       "    </tr>\n",
       "    <tr>\n",
       "      <th>3</th>\n",
       "      <td>1.5</td>\n",
       "      <td>0.2</td>\n",
       "      <td>Iris-setosa</td>\n",
       "    </tr>\n",
       "    <tr>\n",
       "      <th>4</th>\n",
       "      <td>1.4</td>\n",
       "      <td>0.2</td>\n",
       "      <td>Iris-setosa</td>\n",
       "    </tr>\n",
       "  </tbody>\n",
       "</table>\n",
       "</div>"
      ],
      "text/plain": [
       "   PetalLengthCm  PetalWidthCm      Species\n",
       "0            1.4           0.2  Iris-setosa\n",
       "1            1.4           0.2  Iris-setosa\n",
       "2            1.3           0.2  Iris-setosa\n",
       "3            1.5           0.2  Iris-setosa\n",
       "4            1.4           0.2  Iris-setosa"
      ]
     },
     "execution_count": 5,
     "metadata": {},
     "output_type": "execute_result"
    }
   ],
   "source": [
    "training_set.head()"
   ]
  },
  {
   "cell_type": "code",
   "execution_count": 6,
   "id": "e89000b0",
   "metadata": {},
   "outputs": [
    {
     "data": {
      "text/plain": [
       "array(['Iris-setosa', 'Iris-versicolor', 'Iris-virginica'], dtype=object)"
      ]
     },
     "execution_count": 6,
     "metadata": {},
     "output_type": "execute_result"
    }
   ],
   "source": [
    "classes = training_set.Species.unique()\n",
    "classes"
   ]
  },
  {
   "cell_type": "code",
   "execution_count": 7,
   "id": "24be0dee",
   "metadata": {},
   "outputs": [],
   "source": [
    "mask1 = (training_set[\"Species\"] == classes[0])\n",
    "mask2 = (training_set[\"Species\"] == classes[1])\n",
    "mask3 = (training_set[\"Species\"] == classes[2])\n",
    "sample1 = training_set[mask1]\n",
    "sample2 = training_set[mask2]\n",
    "sample3 = training_set[mask3]"
   ]
  },
  {
   "cell_type": "code",
   "execution_count": 8,
   "id": "8f555181",
   "metadata": {},
   "outputs": [],
   "source": [
    "mask1_test = (testing_set[\"Species\"] == classes[0])\n",
    "mask2_test = (testing_set[\"Species\"] == classes[1])\n",
    "mask3_test = (testing_set[\"Species\"] == classes[2])\n",
    "sample1_test = testing_set[mask1_test]\n",
    "sample2_test = testing_set[mask2_test]\n",
    "sample3_test = testing_set[mask3_test]"
   ]
  },
  {
   "cell_type": "code",
   "execution_count": 9,
   "id": "d4335d97",
   "metadata": {},
   "outputs": [],
   "source": [
    "def mean(x_list):\n",
    "    length = 0.0\n",
    "    width = 0.0\n",
    "    count = 0\n",
    "    for x in x_list.values:\n",
    "        length += x[0] # PetalLengthCm\n",
    "        width  += x[1] # PetalWidthCm\n",
    "        count += 1\n",
    "    return ((length / count), (width / count))"
   ]
  },
  {
   "cell_type": "code",
   "execution_count": 10,
   "id": "3726b752",
   "metadata": {},
   "outputs": [
    {
     "data": {
      "text/plain": [
       "[(1.4733333333333334, 0.24666666666666673),\n",
       " (4.333333333333333, 1.3533333333333333),\n",
       " (5.603333333333334, 2.006666666666666)]"
      ]
     },
     "execution_count": 10,
     "metadata": {},
     "output_type": "execute_result"
    }
   ],
   "source": [
    "m1 = mean(sample1)\n",
    "m2 = mean(sample2)\n",
    "m3 = mean(sample3)\n",
    "mu = [m1,m2,m3]\n",
    "mu"
   ]
  },
  {
   "cell_type": "code",
   "execution_count": 11,
   "id": "72ba214f",
   "metadata": {},
   "outputs": [
    {
     "data": {
      "text/plain": [
       "[(1.45, 0.24000000000000005),\n",
       " (4.15, 1.2850000000000001),\n",
       " (5.4750000000000005, 2.0549999999999997)]"
      ]
     },
     "execution_count": 11,
     "metadata": {},
     "output_type": "execute_result"
    }
   ],
   "source": [
    "m1_t = mean(sample1_test)\n",
    "m2_t = mean(sample2_test)\n",
    "m3_t = mean(sample3_test)\n",
    "mu_t = [m1_t, m2_t, m3_t]\n",
    "mu_t"
   ]
  },
  {
   "cell_type": "code",
   "execution_count": 12,
   "id": "a4b9ce23",
   "metadata": {},
   "outputs": [],
   "source": [
    "def plots():\n",
    "    plt.figure(figsize=(14,10))\n",
    "    plt.title(\"Instances Train\")\n",
    "    plt.xlabel(\"PetalLengthCm\")\n",
    "    plt.ylabel(\"PetalWidthCm\")\n",
    "    \n",
    "    plt.plot(sample1[\"PetalLengthCm\"], sample1[\"PetalWidthCm\"], \"x\", markersize=8, color=\"red\", label=\"Iris-setosa\")\n",
    "    plt.plot(sample2[\"PetalLengthCm\"], sample2[\"PetalWidthCm\"], \"o\", markersize=8, color=\"green\", label=\"Iris-versicolor\")\n",
    "    plt.plot(sample3[\"PetalLengthCm\"], sample3[\"PetalWidthCm\"], \"*\", markersize=8, color=\"blue\", label=\"Iris-virginica\")\n",
    "\n",
    "    plt.plot(m1[0], m1[1], \"o\", markersize=12, color=\"blue\", label=\"Mean Setosa\")\n",
    "    plt.plot(m2[0], m2[1], \"o\", markersize=12, color=\"red\", label=\"Mean Versicolor\")\n",
    "    plt.plot(m3[0], m3[1], \"o\", markersize=12, color=\"orange\", label=\"Mean Virginica\")\n",
    "    plt.legend()\n",
    "    plt.show()\n",
    "    \n",
    "    plt.figure(figsize=(14,10))\n",
    "    plt.title(\"Instances Test\")\n",
    "    plt.xlabel(\"PetalLengthCm\")\n",
    "    plt.ylabel(\"PetalWidthCm\")\n",
    "    plt.plot(sample1_test[\"PetalLengthCm\"], sample1_test[\"PetalWidthCm\"], \"x\", markersize=8, color=\"red\", label=\"Iris-setosa\")\n",
    "    plt.plot(sample2_test[\"PetalLengthCm\"], sample2_test[\"PetalWidthCm\"], \"o\", markersize=8, color=\"green\", label=\"Iris-versicolor\")\n",
    "    plt.plot(sample3_test[\"PetalLengthCm\"], sample3_test[\"PetalWidthCm\"], \"*\", markersize=8, color=\"blue\", label=\"Iris-virginica\")\n",
    "  \n",
    "    plt.plot(m1_t[0], m1_t[1], \"o\", markersize=12, color=\"blue\", label=\"Mean Setosa\")\n",
    "    plt.plot(m2_t[0], m2_t[1], \"o\", markersize=12, color=\"red\", label=\"Mean Versicolor\")\n",
    "    plt.plot(m3_t[0], m3_t[1], \"o\", markersize=12, color=\"orange\", label=\"Mean Virginica\")\n",
    "    plt.legend()\n",
    "    plt.show()"
   ]
  },
  {
   "cell_type": "markdown",
   "id": "2f18861f",
   "metadata": {},
   "source": [
    "## Nearest Mean Classifier"
   ]
  },
  {
   "cell_type": "code",
   "execution_count": 13,
   "id": "01cf2434",
   "metadata": {},
   "outputs": [],
   "source": [
    "def convertToSpecies(li):\n",
    "    list = []\n",
    "    for i in li:\n",
    "        if i == 1:\n",
    "            list.append(\"Iris-setosa\")\n",
    "        elif i == 2:\n",
    "            list.append(\"Iris-versicolor\")\n",
    "        else:\n",
    "            list.append(\"Iris-virginica\")\n",
    "    return list"
   ]
  },
  {
   "cell_type": "code",
   "execution_count": 14,
   "id": "fb5c2b39",
   "metadata": {},
   "outputs": [],
   "source": [
    "def convertToNum(li):\n",
    "    list = []\n",
    "    for i in li:\n",
    "        if i == \"Iris-setosa\":\n",
    "            list.append(1)\n",
    "        elif i == \"Iris-versicolor\":\n",
    "            list.append(2)\n",
    "        else:\n",
    "            list.append(3)\n",
    "    return list"
   ]
  },
  {
   "cell_type": "code",
   "execution_count": 15,
   "id": "5a5dc575",
   "metadata": {},
   "outputs": [],
   "source": [
    "def accuracy(actuals, preds):\n",
    "    sum = 0\n",
    "    for i in range(len(actuals)):\n",
    "        if(preds[i] != actuals[i]):\n",
    "            sum += 1\n",
    "    print(\"Accuracy: \",(len(actuals) -sum) /len(actuals))\n",
    "    return (len(actuals) -sum) /len(actuals)"
   ]
  },
  {
   "cell_type": "code",
   "execution_count": 16,
   "id": "6d275517",
   "metadata": {},
   "outputs": [],
   "source": [
    "def conf_matrix(actuals, preds):\n",
    "    n_diff_classes = len(list(set(actuals)))\n",
    "    conf_mat = np.zeros((n_diff_classes, n_diff_classes)) # (rows=Preds, cols=Actuals)\n",
    "    for i, j in zip(preds, actuals):\n",
    "        conf_mat[int(i)-1, int(j)-1] += 1\n",
    "    return conf_mat.astype(\"i\")"
   ]
  },
  {
   "cell_type": "code",
   "execution_count": 17,
   "id": "1faf1d7d",
   "metadata": {},
   "outputs": [],
   "source": [
    "def distance(data,i):\n",
    "    return np.sqrt((mu[i][0] - data[0])**2 + (mu[i][1] - data[1])**2)"
   ]
  },
  {
   "cell_type": "code",
   "execution_count": 18,
   "id": "11bcf997",
   "metadata": {},
   "outputs": [],
   "source": [
    "def nearest_mean(dataset, title):\n",
    "    preds = []\n",
    "    for data in dataset.values:\n",
    "        liste = []\n",
    "        for i in range(len(mu)):\n",
    "            liste.append(distance(data,i))\n",
    "        liste = np.array(liste)\n",
    "        preds.append(liste.argmin() + 1)\n",
    "    y_data = convertToNum(dataset[\"Species\"])\n",
    "    accuracy(y_data,preds)\n",
    "    print(f\"Confusion Matrix {title}\")\n",
    "    print(conf_matrix(y_data,preds))"
   ]
  },
  {
   "cell_type": "markdown",
   "id": "3efa3531",
   "metadata": {},
   "source": [
    "## KNN"
   ]
  },
  {
   "cell_type": "code",
   "execution_count": 19,
   "id": "c20ae74c",
   "metadata": {},
   "outputs": [],
   "source": [
    "def find_majority(k):\n",
    "    myMap = {}\n",
    "    maximum = ( '', 0 )\n",
    "    res = 0;\n",
    "    for n in k:\n",
    "        if n in myMap:\n",
    "            myMap[n] += 1\n",
    "        else: \n",
    "            myMap[n] = 1\n",
    "            \n",
    "        if myMap[n] > maximum[1]: \n",
    "            maximum = (n,myMap[n])\n",
    "    return maximum"
   ]
  },
  {
   "cell_type": "code",
   "execution_count": 20,
   "id": "468272e9",
   "metadata": {},
   "outputs": [],
   "source": [
    "def knn(k, dataset, title):\n",
    "    knn_pred = []\n",
    "    for data in dataset.values:\n",
    "        data_res = []\n",
    "        for train in training_set.values:\n",
    "            data_res.append(np.sqrt((data[0] - train[0])**2 + (data[1] - train[1])**2))\n",
    "        data_res = np.array(data_res)\n",
    "        data_frame = pd.DataFrame(data_res, columns=[\"distance\"])\n",
    "        data_frame = data_frame.sort_values(by=\"distance\")\n",
    "        k_class_idx = data_frame.iloc[:k].index.values  \n",
    "        k_class = []\n",
    "        for i in k_class_idx:\n",
    "            k_class.append(training_set.loc[i][\"Species\"])\n",
    "        knn_pred.append(find_majority(k_class)[0])\n",
    "        preds = convertToNum(knn_pred)\n",
    "        y_data = convertToNum(dataset[\"Species\"])\n",
    "    accs = accuracy(y_data,preds)\n",
    "    print(f\"K:{k} - Confusion Matrix {title}\")\n",
    "    print(conf_matrix(preds,y_data))\n",
    "    return accs"
   ]
  },
  {
   "cell_type": "code",
   "execution_count": 21,
   "id": "599db17b",
   "metadata": {},
   "outputs": [],
   "source": [
    "def nem_res():\n",
    "    nearest_mean(training_set,\"(Train)\")\n",
    "    print(\"-\"*25)\n",
    "    nearest_mean(testing_set,\"(Test)\")"
   ]
  },
  {
   "cell_type": "code",
   "execution_count": 22,
   "id": "a9a99908",
   "metadata": {},
   "outputs": [],
   "source": [
    "def knn_res():\n",
    "    acc_list = []\n",
    "    acc_list2 = []\n",
    "    k = [1,3,5,7,9]\n",
    "    print(\"\\tTRAINING\")\n",
    "    for i in k:\n",
    "        acc_list.append(knn(i,training_set,\"(Train)\"))\n",
    "        print(\"-\"*25)\n",
    "    plt.figure(figsize=(10,6))\n",
    "    plt.plot(k, acc_list, marker=\"o\", label=\"Train\")\n",
    "    print(\"~\"*15, \"o\", \"~\"*15)\n",
    "    print(\"~\"*15, \"o\", \"~\"*15)\n",
    "    print(\"\\tTESTING\")\n",
    "    for i in k:\n",
    "        acc_list2.append(knn(i,testing_set,\"(Test)\"))\n",
    "        print(\"-\"*25)\n",
    "    plt.plot(k, acc_list2, marker=\"o\", label=\"Test\")\n",
    "    plt.title(\"KNN Accuracy Plot\")\n",
    "    plt.xlabel(\"K\")\n",
    "    plt.legend()\n",
    "    plt.show()"
   ]
  },
  {
   "cell_type": "markdown",
   "id": "a2138bad",
   "metadata": {},
   "source": [
    "# Results"
   ]
  },
  {
   "cell_type": "markdown",
   "id": "5a93afb5",
   "metadata": {},
   "source": [
    "### Instances"
   ]
  },
  {
   "cell_type": "code",
   "execution_count": 23,
   "id": "5c3c4b74",
   "metadata": {},
   "outputs": [
    {
     "data": {
      "image/png": "[encoded data removed]",
      "text/plain": [
       "<Figure size 1008x720 with 1 Axes>"
      ]
     },
     "metadata": {
      "needs_background": "light"
     },
     "output_type": "display_data"
    },
    {
     "data": {
      "image/png": "[encoded data removed]",
      "text/plain": [
       "<Figure size 1008x720 with 1 Axes>"
      ]
     },
     "metadata": {
      "needs_background": "light"
     },
     "output_type": "display_data"
    }
   ],
   "source": [
    "plots()"
   ]
  },
  {
   "cell_type": "markdown",
   "id": "779bda9c",
   "metadata": {},
   "source": [
    "###  Nearest-Mean"
   ]
  },
  {
   "cell_type": "code",
   "execution_count": 24,
   "id": "587459cf",
   "metadata": {},
   "outputs": [
    {
     "name": "stdout",
     "output_type": "stream",
     "text": [
      "Accuracy:  0.9333333333333333\n",
      "Confusion Matrix (Train)\n",
      "[[30  0  0]\n",
      " [ 0 29  5]\n",
      " [ 0  1 25]]\n",
      "-------------------------\n",
      "Accuracy:  0.9666666666666667\n",
      "Confusion Matrix (Test)\n",
      "[[20  0  0]\n",
      " [ 0 19  1]\n",
      " [ 0  1 19]]\n"
     ]
    }
   ],
   "source": [
    "nem_res()"
   ]
  },
  {
   "cell_type": "markdown",
   "id": "843b7146",
   "metadata": {},
   "source": [
    "### KNN"
   ]
  },
  {
   "cell_type": "code",
   "execution_count": 25,
   "id": "80208aa3",
   "metadata": {},
   "outputs": [
    {
     "name": "stdout",
     "output_type": "stream",
     "text": [
      "\tTRAINING\n",
      "Accuracy:  0.9888888888888889\n",
      "K:1 - Confusion Matrix (Train)\n",
      "[[30  0  0]\n",
      " [ 0 29  1]\n",
      " [ 0  0 30]]\n",
      "-------------------------\n",
      "Accuracy:  0.9555555555555556\n",
      "K:3 - Confusion Matrix (Train)\n",
      "[[30  0  0]\n",
      " [ 0 28  2]\n",
      " [ 0  2 28]]\n",
      "-------------------------\n",
      "Accuracy:  0.9555555555555556\n",
      "K:5 - Confusion Matrix (Train)\n",
      "[[30  0  0]\n",
      " [ 0 28  2]\n",
      " [ 0  2 28]]\n",
      "-------------------------\n",
      "Accuracy:  0.9555555555555556\n",
      "K:7 - Confusion Matrix (Train)\n",
      "[[30  0  0]\n",
      " [ 0 28  2]\n",
      " [ 0  2 28]]\n",
      "-------------------------\n",
      "Accuracy:  0.9555555555555556\n",
      "K:9 - Confusion Matrix (Train)\n",
      "[[30  0  0]\n",
      " [ 0 28  2]\n",
      " [ 0  2 28]]\n",
      "-------------------------\n",
      "~~~~~~~~~~~~~~~ o ~~~~~~~~~~~~~~~\n",
      "~~~~~~~~~~~~~~~ o ~~~~~~~~~~~~~~~\n",
      "\tTESTING\n",
      "Accuracy:  0.9833333333333333\n",
      "K:1 - Confusion Matrix (Test)\n",
      "[[20  0  0]\n",
      " [ 0 19  1]\n",
      " [ 0  0 20]]\n",
      "-------------------------\n",
      "Accuracy:  0.9833333333333333\n",
      "K:3 - Confusion Matrix (Test)\n",
      "[[20  0  0]\n",
      " [ 0 20  0]\n",
      " [ 0  1 19]]\n",
      "-------------------------\n",
      "Accuracy:  0.9833333333333333\n",
      "K:5 - Confusion Matrix (Test)\n",
      "[[20  0  0]\n",
      " [ 0 20  0]\n",
      " [ 0  1 19]]\n",
      "-------------------------\n",
      "Accuracy:  0.9666666666666667\n",
      "K:7 - Confusion Matrix (Test)\n",
      "[[20  0  0]\n",
      " [ 0 19  1]\n",
      " [ 0  1 19]]\n",
      "-------------------------\n",
      "Accuracy:  0.9666666666666667\n",
      "K:9 - Confusion Matrix (Test)\n",
      "[[20  0  0]\n",
      " [ 0 19  1]\n",
      " [ 0  1 19]]\n",
      "-------------------------\n"
     ]
    },
    {
     "data": {
      "image/png": "[encoded data removed]",
      "text/plain": [
       "<Figure size 720x432 with 1 Axes>"
      ]
     },
     "metadata": {
      "needs_background": "light"
     },
     "output_type": "display_data"
    }
   ],
   "source": [
    "knn_res()"
   ]
  }
 ],
 "metadata": {
  "kernelspec": {
   "display_name": "Python 3",
   "language": "python",
   "name": "python3"
  },
  "language_info": {
   "codemirror_mode": {
    "name": "ipython",
    "version": 3
   },
   "file_extension": ".py",
   "mimetype": "text/x-python",
   "name": "python",
   "nbconvert_exporter": "python",
   "pygments_lexer": "ipython3",
   "version": "3.8.8"
  }
 },
 "nbformat": 4,
 "nbformat_minor": 5
}
